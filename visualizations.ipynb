{
 "cells": [
  {
   "cell_type": "code",
   "execution_count": 2,
   "metadata": {},
   "outputs": [],
   "source": [
    "import pandas as pd\n",
    "import numpy as np\n",
    "\n",
    "data = pd.read_csv('parsedData/cleaned.csv')\n"
   ]
  },
  {
   "cell_type": "code",
   "execution_count": 54,
   "metadata": {},
   "outputs": [
    {
     "name": "stdout",
     "output_type": "stream",
     "text": [
      "{Interval(5, 25, closed='right'): 17345.0, Interval(25, 50, closed='right'): 96658.0, Interval(50, 75, closed='right'): 464310.0, Interval(75, 100, closed='right'): 781912.0, Interval(100, 200, closed='right'): 11525.0}\n"
     ]
    }
   ],
   "source": [
    "ageSplits = [5, 25, 50, 75, 100, 200]\n",
    "\n",
    "data[\"Agebins\"] = pd.cut(data[\"Age\"], ageSplits, precision=0)\n",
    "\n",
    "data[\"count\"] = 1.000\n",
    "\n",
    "test = data.groupby([\"Agebins\", \"Cause of Death\"], as_index=False).sum()\n",
    "\n",
    "\n",
    "ageCauseofDeathCount = test[[\"Agebins\", \"Cause of Death\", \"count\"]]\n",
    "\n",
    "deathAmountMap = {}\n",
    "for index, row in enumerate(ageCauseofDeathCount.values):\n",
    "    try:\n",
    "        deathAmountMap[row[0]] += row[2]\n",
    "    except:\n",
    "         deathAmountMap[row[0]] = row[2]\n",
    "\n",
    "print(deathAmountMap)\n",
    "for index, row in enumerate(ageCauseofDeathCount.values):\n",
    "    ageCauseofDeathCount.iat[index, 2] = ageCauseofDeathCount.iat[index, 2]/deathAmountMap[row[0]]\n",
    "\n",
    "ageCauseofDeathCount.to_csv('parsedData/streamgraph.csv')"
   ]
  },
  {
   "cell_type": "code",
   "execution_count": null,
   "metadata": {},
   "outputs": [],
   "source": []
  }
 ],
 "metadata": {
  "interpreter": {
   "hash": "7ce7338e1f663073926abdbfc296d54e64c1fd31453f645008acd818a87ce774"
  },
  "kernelspec": {
   "display_name": "Python 3.9.4 ('py39')",
   "language": "python",
   "name": "python3"
  },
  "language_info": {
   "codemirror_mode": {
    "name": "ipython",
    "version": 3
   },
   "file_extension": ".py",
   "mimetype": "text/x-python",
   "name": "python",
   "nbconvert_exporter": "python",
   "pygments_lexer": "ipython3",
   "version": "3.9.4"
  },
  "orig_nbformat": 4
 },
 "nbformat": 4,
 "nbformat_minor": 2
}
