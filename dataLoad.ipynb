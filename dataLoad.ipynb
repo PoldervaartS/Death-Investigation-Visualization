{
 "cells": [
  {
   "cell_type": "code",
   "execution_count": null,
   "metadata": {},
   "outputs": [],
   "source": [
    "import pandas as pd\n",
    "import numpy as np\n",
    "\n",
    "data = pd.read_table(\"CDCData.dat\")\n",
    "data=data.squeeze()"
   ]
  },
  {
   "cell_type": "code",
   "execution_count": 28,
   "metadata": {},
   "outputs": [
    {
     "name": "stdout",
     "output_type": "stream",
     "text": [
      "19\n",
      "19\n"
     ]
    }
   ],
   "source": [
    "\n",
    "columnNames = [\"Resident Status\", \"Education\", \"Month of Death\", \"Sex\", \"Age\", \"Place of death and decedent's status\", \"Marital Status\", \"Day of Week of Death\", \"Current Data Year\", \"Injury at Work\", \"Manner of Death\", \"Method of Disposition\", \"Autopsy\", \"Activity Code\", \"Place of injury\", \"Underlying cause of death\", \"Multiple Conditions\", \"Race\", \"Usual Occupation\", ]\n",
    "locations = [[20], [61, 64], [65,66], [69], [70,82], [83], [84],[85], [102, 105], [106], [107], [108], [109], [144], [145], [146, 162], [163, 443], [445, 482], [806, 817]]\n",
    "print(len(columnNames))\n",
    "print(len(locations))"
   ]
  },
  {
   "cell_type": "code",
   "execution_count": 95,
   "metadata": {},
   "outputs": [
    {
     "name": "stdout",
     "output_type": "stream",
     "text": [
      "(3390277, 19)\n",
      "0            61\n",
      "1            41\n",
      "2            31\n",
      "3            31\n",
      "4            31\n",
      "           ... \n",
      "3390272      31\n",
      "3390273      91\n",
      "3390274      91\n",
      "3390275      91\n",
      "3390276      91\n",
      "Name: Education, Length: 3390277, dtype: object\n"
     ]
    }
   ],
   "source": [
    "parsedData =  pd.DataFrame(index=[i for i in range(0,data.shape[0])], columns=columnNames)\n",
    "print(parsedData.shape)\n",
    "count = 0\n",
    "for index, line in enumerate(data):\n",
    "    arr = [ line[(indeces[0] - 1):indeces[-1]] for  indeces in locations]\n",
    "    parsedData.loc[index] = arr\n",
    "\n",
    "\n",
    "print(parsedData['Education'])"
   ]
  },
  {
   "cell_type": "code",
   "execution_count": 96,
   "metadata": {},
   "outputs": [],
   "source": [
    "compression_opts = dict(method='zip', archive_name='out.csv')\n",
    "parsedData.to_csv('parsedData.zip',compression=compression_opts)\n"
   ]
  },
  {
   "cell_type": "code",
   "execution_count": 102,
   "metadata": {},
   "outputs": [
    {
     "name": "stdout",
     "output_type": "stream",
     "text": [
      " \n",
      "0          1\n",
      "1          1\n",
      "2          1\n",
      "3          1\n",
      "4          1\n",
      "          ..\n",
      "3390272    1\n",
      "3390273    1\n",
      "3390274    1\n",
      "3390275    1\n",
      "3390276    1\n",
      "Name: Resident Status, Length: 3390277, dtype: object\n"
     ]
    }
   ],
   "source": [
    "print(min(parsedData[\"Resident Status\"]))\n",
    "print(parsedData[\"Resident Status\"])"
   ]
  }
 ],
 "metadata": {
  "interpreter": {
   "hash": "7ce7338e1f663073926abdbfc296d54e64c1fd31453f645008acd818a87ce774"
  },
  "kernelspec": {
   "display_name": "Python 3.9.4 ('py39')",
   "language": "python",
   "name": "python3"
  },
  "language_info": {
   "codemirror_mode": {
    "name": "ipython",
    "version": 3
   },
   "file_extension": ".py",
   "mimetype": "text/x-python",
   "name": "python",
   "nbconvert_exporter": "python",
   "pygments_lexer": "ipython3",
   "version": "3.9.4"
  },
  "orig_nbformat": 4
 },
 "nbformat": 4,
 "nbformat_minor": 2
}
